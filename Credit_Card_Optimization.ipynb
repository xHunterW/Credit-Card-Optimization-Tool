{
 "cells": [
  {
   "cell_type": "markdown",
   "metadata": {
    "id": "cSCj68U3FtKZ"
   },
   "source": [
    "# Choose an Optimal Credit Card Stack, Optimized for Your Specific Expenses. \n",
    "\n",
    "Name: Hunter Worssam \\\n",
    "Date: 25 August 2025"
   ]
  },
  {
   "cell_type": "markdown",
   "metadata": {},
   "source": [
    "## Notes\n",
    "This current iteration requires the user to populate their desired spend categories for each card, as well as the % cashback or point value for each category. This model will not take into account special offers outside of spend categories, such as Amex's cash back on Disney+, or Chase's hotel credits. It also does not yet account for sign-up bonuses & waived fee promotions."
   ]
  },
  {
   "cell_type": "markdown",
   "metadata": {
    "id": "LqEul9bWGiMP"
   },
   "source": [
    "### Install required packages"
   ]
  },
  {
   "cell_type": "code",
   "execution_count": 4,
   "metadata": {
    "colab": {
     "base_uri": "https://localhost:8080/"
    },
    "id": "XgjYaEMwPJKI",
    "outputId": "f7b2db59-658d-416e-8532-85866b8aba2b"
   },
   "outputs": [
    {
     "name": "stdout",
     "output_type": "stream",
     "text": [
      "Requirement already satisfied: pulp in /opt/anaconda3/lib/python3.12/site-packages (3.2.2)\n",
      "Requirement already satisfied: pandas in /opt/anaconda3/lib/python3.12/site-packages (2.2.2)\n",
      "Requirement already satisfied: numpy>=1.26.0 in /opt/anaconda3/lib/python3.12/site-packages (from pandas) (1.26.4)\n",
      "Requirement already satisfied: python-dateutil>=2.8.2 in /opt/anaconda3/lib/python3.12/site-packages (from pandas) (2.9.0.post0)\n",
      "Requirement already satisfied: pytz>=2020.1 in /opt/anaconda3/lib/python3.12/site-packages (from pandas) (2024.1)\n",
      "Requirement already satisfied: tzdata>=2022.7 in /opt/anaconda3/lib/python3.12/site-packages (from pandas) (2023.3)\n",
      "Requirement already satisfied: six>=1.5 in /opt/anaconda3/lib/python3.12/site-packages (from python-dateutil>=2.8.2->pandas) (1.16.0)\n"
     ]
    }
   ],
   "source": [
    "!pip install pulp pandas"
   ]
  },
  {
   "cell_type": "code",
   "execution_count": 5,
   "metadata": {
    "id": "dOms4m2OE5vR"
   },
   "outputs": [],
   "source": [
    "import pulp\n",
    "import pandas as pd\n",
    "from collections import defaultdict\n",
    "from typing import Dict, List, Union, Tuple, Set, Optional"
   ]
  },
  {
   "cell_type": "markdown",
   "metadata": {
    "id": "4-Q07-jBGmcg"
   },
   "source": [
    "## Define algorithm"
   ]
  },
  {
   "cell_type": "code",
   "execution_count": 7,
   "metadata": {},
   "outputs": [],
   "source": [
    "def optimize_credit_cards(\n",
    "    cards: Dict[str, Dict[str, float]],\n",
    "    spending: Dict[str, float],\n",
    "    annual_fees: Dict[str, float],\n",
    "    allow_unassigned: bool = True,     # enable a 0% fallback so bad choices are not enforced\n",
    "    max_cards: Union[int, None] = None, # cap number of cards you “carry”; None = no cap\n",
    "    keep_nonnegative: bool = True,     # keep overall objective ≥ 0 (can set False if you want raw optimum)\n",
    ") -> Union[Tuple[Dict[str, str], float, Set[str]], str]:\n",
    "    \"\"\"\n",
    "    Optimizes credit card usage to maximize rewards minus annual fees.\n",
    "\n",
    "    Returns:\n",
    "        chosen_cards (dict): category -> chosen card (or 'NoCard' when unassigned and allowed)\n",
    "        total_reward (float): net value (rewards - fees)\n",
    "        unique_cards (set): unique set of real cards chosen (excludes 'NoCard')\n",
    "    \"\"\"\n",
    "\n",
    "    # Optional 0% fallback so categories aren't forced into a bad card.\n",
    "    WORK_cards = dict(cards) \n",
    "    WORK_fees = dict(annual_fees)\n",
    "    if allow_unassigned:\n",
    "        WORK_cards[\"NoCard\"] = {cat: 0.0 for cat in spending} \n",
    "        WORK_fees[\"NoCard\"] = 0.0\n",
    "\n",
    "    # Initialize the MILP\n",
    "    prob = pulp.LpProblem(\"Maximize_Credit_Card_Rewards\", pulp.LpMaximize)\n",
    "\n",
    "    # Decision variables split into:\n",
    "    # - x[card][category] ∈ {0,1} (use card for that category)\n",
    "    # - y[card] ∈ {0,1} (hold the card at all)\n",
    "    x = {\n",
    "        card: {category: pulp.LpVariable(f\"x_{card}_{category}\", 0, 1, pulp.LpBinary)\n",
    "               for category in spending}\n",
    "        for card in WORK_cards\n",
    "    }\n",
    "    y = {card: pulp.LpVariable(f\"y_{card}\", 0, 1, pulp.LpBinary) for card in WORK_cards}  # ADDED\n",
    "\n",
    "    #  If card lacks a category key, fall back to a 'Base' key if present, else 0.0. \n",
    "    # This avoids KeyErrors and unrealistic zeros.\n",
    "    def earn_rate(card: str, category: str) -> float:\n",
    "        card_table = WORK_cards[card]\n",
    "        return card_table.get(category, card_table.get(\"Base\", 0.0))\n",
    "\n",
    "    # Objective = sum(rewards) - sum(card_fees counted ONCE via y)\n",
    "    rewards = pulp.lpSum(\n",
    "        x[card][cat] * spending[cat] * earn_rate(card, cat)\n",
    "        for card in WORK_cards for cat in spending\n",
    "    )\n",
    "    fees = pulp.lpSum(y[card] * WORK_fees[card] for card in WORK_cards)\n",
    "    total_reward_expr = rewards - fees\n",
    "    prob += total_reward_expr\n",
    "\n",
    "    # Linking constraint so you can't use a card in a category unless you \"hold\" it.\n",
    "    for card in WORK_cards:\n",
    "        for cat in spending:\n",
    "            prob += x[card][cat] <= y[card]\n",
    "\n",
    "    # Keep the \"exactly one\" assignment per category, but because of the 'NoCard' option with 0%, we are not forced\n",
    "    # to pick a bad paid card just to satisfy the equality.\n",
    "    for cat in spending:\n",
    "        prob += pulp.lpSum(x[card][cat] for card in WORK_cards) == 1 \n",
    "\n",
    "    # Optional cap on number of cards to carry\n",
    "    if max_cards is not None:\n",
    "        # Don't count 'NoCard' against the cap\n",
    "        prob += pulp.lpSum(y[c] for c in WORK_cards if c != \"NoCard\") <= int(max_cards)\n",
    "\n",
    "    # Positivity constraint is optional.\n",
    "    # With 'NoCard' present, the model can always hit 0 by picking nothing.\n",
    "    if keep_nonnegative:\n",
    "        prob += total_reward_expr >= 0 \n",
    "\n",
    "    # Solve\n",
    "    prob.solve()\n",
    "\n",
    "    # Handle optimality / feasibility\n",
    "    if pulp.LpStatus[prob.status] == \"Optimal\":\n",
    "        chosen_cards = {}\n",
    "        for cat in spending:\n",
    "            # identify the unique chosen card (ties shouldn't happen under binary + equality)\n",
    "            chosen = None\n",
    "            for card in WORK_cards:\n",
    "                if pulp.value(x[card][cat]) == 1:\n",
    "                    chosen = card\n",
    "                    break\n",
    "            # Safety fallback\n",
    "            chosen_cards[cat] = chosen if chosen is not None else (\"NoCard\" if allow_unassigned else next(iter(WORK_cards)))\n",
    "\n",
    "        total_reward = float(pulp.value(prob.objective))\n",
    "\n",
    "        # Unique real cards (exclude 'NoCard' if present)\n",
    "        unique_cards = {c for c in WORK_cards if c != \"NoCard\" and pulp.value(y[c]) == 1}\n",
    "\n",
    "        return chosen_cards, total_reward, unique_cards\n",
    "\n",
    "    # If infeasible (e.g., keep_nonnegative=True plus weird inputs), match intended return style\n",
    "    return \"No positive reward solution found\", 0, set()"
   ]
  },
  {
   "cell_type": "markdown",
   "metadata": {},
   "source": [
    "# Function for a Clean PnL Table Output"
   ]
  },
  {
   "cell_type": "code",
   "execution_count": 9,
   "metadata": {},
   "outputs": [],
   "source": [
    "def make_pnl_table(\n",
    "    chosen_cards: Dict[str, str],\n",
    "    spending: Dict[str, float],\n",
    "    cards: Dict[str, Dict[str, float]],\n",
    "    annual_fees: Dict[str, float],\n",
    "    unique_cards: Set[str],\n",
    "    include_nocard: bool = False,   # show a \"NoCard\" row if present\n",
    "    sort_by: str = \"Net Value ($)\", # or \"Rewards ($)\"\n",
    ") -> pd.DataFrame:\n",
    "    \"\"\"\n",
    "    Build a per-card P&L table consistent with your solver:\n",
    "    - Rewards are summed for the categories assigned to each card.\n",
    "    - Annual fee is counted ONCE per card (cards in `unique_cards`).\n",
    "    - Net Value = Rewards - Annual Fee\n",
    "    - Break-even Spend = fee / blended reward rate (if defined)\n",
    "    \"\"\"\n",
    "\n",
    "    # Helper for earn rate with a safe Base fallback\n",
    "    def earn_rate(card: str, cat: str) -> float:\n",
    "        tbl = cards.get(card, {})\n",
    "        return tbl.get(cat, tbl.get(\"Base\", 0.0))\n",
    "\n",
    "    # Gather categories used by each card\n",
    "    cats_by_card = defaultdict(list)\n",
    "    for cat, card in chosen_cards.items():\n",
    "        if (card == \"NoCard\") and not include_nocard:\n",
    "            continue\n",
    "        cats_by_card[card].append(cat)\n",
    "\n",
    "    rows = []\n",
    "    all_cards = set(cats_by_card.keys()) | set(unique_cards)\n",
    "    # Optionally include NoCard (0 fee, 0 rewards)\n",
    "    if include_nocard and \"NoCard\" in cats_by_card:\n",
    "        all_cards.add(\"NoCard\")\n",
    "\n",
    "    for card in sorted(all_cards):\n",
    "        # Assigned spend & rewards from chosen categories\n",
    "        assigned_cats = cats_by_card.get(card, [])\n",
    "        spend = sum(spending[c] for c in assigned_cats)\n",
    "        rewards = sum(spending[c] * earn_rate(card, c) for c in assigned_cats)\n",
    "\n",
    "        # Fee counted once per card actually carried\n",
    "        fee = float(annual_fees.get(card, 0.0)) if (card in unique_cards) else 0.0\n",
    "        if card == \"NoCard\":\n",
    "            fee = 0.0  # ensure\n",
    "\n",
    "        net = rewards - fee\n",
    "\n",
    "        # Blended reward rate (cash per $) for break-even calc\n",
    "        blended_rate = (rewards / spend) if spend > 0 else 0.0\n",
    "        be_spend = (fee / blended_rate) if blended_rate > 0 else float(\"inf\")\n",
    "\n",
    "        rows.append({\n",
    "            \"Card\": card,\n",
    "            \"Categories Used\": \", \".join(sorted(assigned_cats)) if assigned_cats else \"—\",\n",
    "            \"Assigned Spend ($)\": round(spend, 2),\n",
    "            \"Rewards ($)\": round(rewards, 2),\n",
    "            \"Annual Fee ($)\": round(fee, 2),\n",
    "            \"Net Value ($)\": round(net, 2),\n",
    "            \"Break-Even Spend ($)\": (\"—\" if be_spend == float(\"inf\") else round(be_spend, 2)),\n",
    "        })\n",
    "\n",
    "    df = pd.DataFrame(rows)\n",
    "    if not df.empty:\n",
    "        df = df.sort_values([sort_by, \"Rewards ($)\"], ascending=[False, False]).reset_index(drop=True)\n",
    "\n",
    "        # Add a totals row (excluding NoCard)\n",
    "        mask_real = df[\"Card\"] != \"NoCard\"\n",
    "        totals = {\n",
    "            \"Card\": \"TOTAL\",\n",
    "            \"Categories Used\": \"—\",\n",
    "            \"Assigned Spend ($)\": round(df.loc[mask_real, \"Assigned Spend ($)\"].sum(), 2),\n",
    "            \"Rewards ($)\": round(df.loc[mask_real, \"Rewards ($)\"].sum(), 2),\n",
    "            \"Annual Fee ($)\": round(df.loc[mask_real, \"Annual Fee ($)\"].sum(), 2),\n",
    "            \"Net Value ($)\": round(df.loc[mask_real, \"Net Value ($)\"].sum(), 2),\n",
    "            \"Break-Even Spend ($)\": \"—\",\n",
    "        }\n",
    "        df = pd.concat([df, pd.DataFrame([totals])], ignore_index=True)\n",
    "\n",
    "    return df"
   ]
  },
  {
   "cell_type": "markdown",
   "metadata": {
    "id": "ldszmz6JGqWY"
   },
   "source": [
    "## Example Usuage"
   ]
  },
  {
   "cell_type": "code",
   "execution_count": 11,
   "metadata": {
    "id": "MhFPLIH8ElAo"
   },
   "outputs": [],
   "source": [
    "cards = {\n",
    "    'Amex_Blue': {'Groceries': 0.06, 'Gas': 0.03, 'Dining': 0.01, 'Travel': 0.01, 'Entertainment': 0.01, 'Education': 0.01, 'Utilities': 0.01, 'Costco': 0.01},\n",
    "    'Chase_Saph': {'Groceries': 0.01, 'Gas': 0.01, 'Dining': 0.03, 'Travel': 0.02, 'Entertainment': 0.02, 'Education': 0.01, 'Utilities': 0.01, 'Costco': 0.01},\n",
    "    'Amex_Gold': {'Groceries': 0.04, 'Gas': 0.01, 'Dining': 0.04, 'Travel': 0.025, 'Entertainment': 0.01, 'Education': 0.01, 'Utilities': 0.01, 'Costco': 0.01},\n",
    "    'Venture': {'Groceries': 0.02, 'Gas': 0.02, 'Dining': 0.02, 'Travel': 0.02, 'Entertainment': 0.02, 'Education': 0.02, 'Utilities': 0.02, 'Costco': 0.02},\n",
    "    'Savor': {'Groceries': 0.03, 'Gas': 0.01, 'Dining': 0.03, 'Travel': 0.01, 'Entertainment': 0.03, 'Education': 0.01, 'Utilities': 0.01, 'Costco': 0.01},\n",
    "    'Costco': {'Groceries': 0.01, 'Gas': 0.04, 'Dining': 0.03, 'Travel': 0.01, 'Entertainment': 0.01, 'Education': 0.01, 'Utilities': 0.01, 'Costco': 0.02},\n",
    "    'Chase_Freedom': {'Groceries': 0.015, 'Gas': 0.015, 'Dining': 0.03, 'Travel': 0.015, 'Entertainment': 0.015, 'Education': 0.015, 'Utilities': 0.015, 'Costco': 0.015}\n",
    "}\n",
    "\n",
    "annual_spending = {\n",
    "    'Groceries': 4000,\n",
    "    'Gas': 1200,\n",
    "    'Dining': 6500,\n",
    "    'Travel': 2500,\n",
    "    'Entertainment': 2800,\n",
    "    'Education': 10000,\n",
    "    'Utilities': 1700,\n",
    "    'Costco': 1400,\n",
    "}\n",
    "\n",
    "annual_fees = {\n",
    "    'Amex_Blue': 95,\n",
    "    'Chase_Saph': 95,\n",
    "    'Amex_Gold': 325,\n",
    "    'Venture': 95,\n",
    "    'Savor': 0,\n",
    "    'Costco': 0,\n",
    "    'Chase_Freedom': 0\n",
    "}"
   ]
  },
  {
   "cell_type": "code",
   "execution_count": 12,
   "metadata": {
    "colab": {
     "base_uri": "https://localhost:8080/"
    },
    "id": "j_c1FdG4FTKP",
    "outputId": "ca4b52c9-4e53-4dff-aa18-5c065ea0d651"
   },
   "outputs": [
    {
     "name": "stdout",
     "output_type": "stream",
     "text": [
      "Welcome to the CBC MILP Solver \n",
      "Version: 2.10.3 \n",
      "Build Date: Dec 15 2019 \n",
      "\n",
      "command line - /opt/anaconda3/lib/python3.12/site-packages/pulp/apis/../solverdir/cbc/osx/i64/cbc /var/folders/dv/mzhtb9w54p32nmxwmm3vt7340000gn/T/8cae2be4fb2d474e9f1147e98c20d2c1-pulp.mps -max -timeMode elapsed -branch -printingOptions all -solution /var/folders/dv/mzhtb9w54p32nmxwmm3vt7340000gn/T/8cae2be4fb2d474e9f1147e98c20d2c1-pulp.sol (default strategy 1)\n",
      "At line 2 NAME          MODEL\n",
      "At line 3 ROWS\n",
      "At line 79 COLUMNS\n",
      "At line 543 RHS\n",
      "At line 618 BOUNDS\n",
      "At line 691 ENDATA\n",
      "Problem MODEL has 74 rows, 72 columns and 259 elements\n",
      "Coin0008I MODEL read with 0 errors\n",
      "Option for timeMode changed from cpu to elapsed\n",
      "Continuous objective value is 713 - 0.00 seconds\n",
      "Cgl0004I processed model has 66 rows, 71 columns (71 integer (71 of which binary)) and 243 elements\n",
      "Cutoff increment increased from 1e-05 to 0.4999\n",
      "Cbc0038I Initial state - 0 integers unsatisfied sum - 6.66134e-16\n",
      "Cbc0038I Solution found of -713\n",
      "Cbc0038I Before mini branch and bound, 63 integers at bound fixed and 8 continuous\n",
      "Cbc0038I Mini branch and bound did not improve solution (0.01 seconds)\n",
      "Cbc0038I After 0.01 seconds - Feasibility pump exiting with objective of -713 - took 0.00 seconds\n",
      "Cbc0012I Integer solution of -713 found by feasibility pump after 0 iterations and 0 nodes (0.01 seconds)\n",
      "Cbc0001I Search completed - best objective -713, took 0 iterations and 0 nodes (0.01 seconds)\n",
      "Cbc0035I Maximum depth 0, 0 variables fixed on reduced cost\n",
      "Cuts at root node changed objective from -713 to -713\n",
      "Probing was tried 0 times and created 0 cuts of which 0 were active after adding rounds of cuts (0.000 seconds)\n",
      "Gomory was tried 0 times and created 0 cuts of which 0 were active after adding rounds of cuts (0.000 seconds)\n",
      "Knapsack was tried 0 times and created 0 cuts of which 0 were active after adding rounds of cuts (0.000 seconds)\n",
      "Clique was tried 0 times and created 0 cuts of which 0 were active after adding rounds of cuts (0.000 seconds)\n",
      "MixedIntegerRounding2 was tried 0 times and created 0 cuts of which 0 were active after adding rounds of cuts (0.000 seconds)\n",
      "FlowCover was tried 0 times and created 0 cuts of which 0 were active after adding rounds of cuts (0.000 seconds)\n",
      "TwoMirCuts was tried 0 times and created 0 cuts of which 0 were active after adding rounds of cuts (0.000 seconds)\n",
      "ZeroHalf was tried 0 times and created 0 cuts of which 0 were active after adding rounds of cuts (0.000 seconds)\n",
      "\n",
      "Result - Optimal solution found\n",
      "\n",
      "Objective value:                713.00000000\n",
      "Enumerated nodes:               0\n",
      "Total iterations:               0\n",
      "Time (CPU seconds):             0.00\n",
      "Time (Wallclock seconds):       0.01\n",
      "\n",
      "Option for printingOptions changed from normal to all\n",
      "Total time (CPU seconds):       0.00   (Wallclock seconds):       0.02\n",
      "\n",
      "Chosen Cards by Category: {'Groceries': 'Amex_Blue', 'Gas': 'Costco', 'Dining': 'Savor', 'Travel': 'Chase_Freedom', 'Entertainment': 'Savor', 'Education': 'Chase_Freedom', 'Utilities': 'Chase_Freedom', 'Costco': 'Costco'}\n",
      "Total Reward: 713.0\n",
      "Unique Cards Selected: {'Costco', 'Amex_Blue', 'Chase_Freedom', 'Savor'}\n",
      "Number of Cards to Carry: 4\n",
      "\n",
      "         Card              Categories Used  Assigned Spend ($)  Rewards ($)  Annual Fee ($)  Net Value ($) Break-Even Spend ($)\n",
      "        Savor        Dining, Entertainment                9300        279.0             0.0          279.0                  0.0\n",
      "Chase_Freedom Education, Travel, Utilities               14200        213.0             0.0          213.0                  0.0\n",
      "    Amex_Blue                    Groceries                4000        240.0            95.0          145.0              1583.33\n",
      "       Costco                  Costco, Gas                2600         76.0             0.0           76.0                  0.0\n",
      "        TOTAL                            —               30100        808.0            95.0          713.0                    —\n"
     ]
    }
   ],
   "source": [
    "chosen_cards, total_reward, unique_cards = optimize_credit_cards(cards, annual_spending, annual_fees, max_cards=4)\n",
    "\n",
    "print(\"Chosen Cards by Category:\", chosen_cards)\n",
    "print(\"Total Reward:\", round(total_reward, 2))\n",
    "print(\"Unique Cards Selected:\", unique_cards)\n",
    "print(\"Number of Cards to Carry:\", len(unique_cards))\n",
    "print(\"\")\n",
    "\n",
    "pnl = make_pnl_table(\n",
    "    chosen_cards=chosen_cards,\n",
    "    spending=annual_spending,\n",
    "    cards=cards,\n",
    "    annual_fees=annual_fees,\n",
    "    unique_cards=unique_cards,\n",
    "    include_nocard=False \n",
    ")\n",
    "print(pnl.to_string(index=False))"
   ]
  }
 ],
 "metadata": {
  "colab": {
   "provenance": []
  },
  "kernelspec": {
   "display_name": "Python [conda env:base] *",
   "language": "python",
   "name": "conda-base-py"
  },
  "language_info": {
   "codemirror_mode": {
    "name": "ipython",
    "version": 3
   },
   "file_extension": ".py",
   "mimetype": "text/x-python",
   "name": "python",
   "nbconvert_exporter": "python",
   "pygments_lexer": "ipython3",
   "version": "3.12.7"
  }
 },
 "nbformat": 4,
 "nbformat_minor": 4
}
